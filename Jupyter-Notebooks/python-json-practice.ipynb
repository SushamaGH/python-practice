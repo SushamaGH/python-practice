{
 "cells": [
  {
   "attachments": {},
   "cell_type": "markdown",
   "metadata": {},
   "source": [
    "1. Create a function that returns a list of all the names.\n",
    "2. Create a function that counts the total number of males and females. Return both numbers\n",
    "3. Create a function that returns a list of all the charachters that appear in more than x number of films. \n",
    "    Where 'x' is the number of films you are checking for and is passed into the function.\n",
    "4. Create function that returns a tuple of the min, max, and avg height for all charachters\n",
    "5. Create a function that accepts two arguements: eye color and hair color. \n",
    "    Return a dictionary with the min, max, and avg height based on the parameters.\n",
    "\n",
    "Challenge 1: Get all of the response data into a list using a \"While Loop\" instead of a \"For Loop\"\n",
    "Challenge 2: For problem number 4, convert the centimeters to feet\n",
    "Challenge 3: Create a function that returns a list of all the names that start with a certain letter.\n",
    "\n"
   ]
  },
  {
   "cell_type": "code",
   "execution_count": 4,
   "metadata": {},
   "outputs": [
    {
     "name": "stdout",
     "output_type": "stream",
     "text": [
      "10\n",
      "9\n"
     ]
    }
   ],
   "source": [
    "import requests\n",
    "import json\n",
    "from pprint import PrettyPrinter\n",
    "import math\n",
    "\n",
    "\n",
    "url = 'https://swapi.dev/api/people/?page=1'\n",
    "response = requests.get(url)\n",
    "new_response = response.json()\n",
    "\n",
    "print(len(new_response[\"results\"]))\n",
    "total_pages =  math.ceil(new_response[\"count\"] / len(new_response[\"results\"]))\n",
    "print(total_pages)\n",
    "results_list = []\n",
    "data = []\n",
    "\n",
    "url = 'https://swapi.dev/api/people/?page='\n",
    "for i in range(1, total_pages + 1):\n",
    "    request = requests.get(url + str(i))\n",
    "    response = request.json()\n",
    "    data.append(response)\n",
    "    results_list.extend(data[i-1][\"results\"])\n",
    "#print(data)\n"
   ]
  },
  {
   "cell_type": "code",
   "execution_count": 8,
   "metadata": {},
   "outputs": [
    {
     "name": "stdout",
     "output_type": "stream",
     "text": [
      "['Luke Skywalker', 'C-3PO', 'R2-D2', 'Darth Vader', 'Leia Organa', 'Owen Lars', 'Beru Whitesun lars', 'R5-D4', 'Biggs Darklighter', 'Obi-Wan Kenobi', 'Anakin Skywalker', 'Wilhuff Tarkin', 'Chewbacca', 'Han Solo', 'Greedo', 'Jabba Desilijic Tiure', 'Wedge Antilles', 'Jek Tono Porkins', 'Yoda', 'Palpatine', 'Boba Fett', 'IG-88', 'Bossk', 'Lando Calrissian', 'Lobot', 'Ackbar', 'Mon Mothma', 'Arvel Crynyd', 'Wicket Systri Warrick', 'Nien Nunb', 'Qui-Gon Jinn', 'Nute Gunray', 'Finis Valorum', 'Padmé Amidala', 'Jar Jar Binks', 'Roos Tarpals', 'Rugor Nass', 'Ric Olié', 'Watto', 'Sebulba', 'Quarsh Panaka', 'Shmi Skywalker', 'Darth Maul', 'Bib Fortuna', 'Ayla Secura', 'Ratts Tyerel', 'Dud Bolt', 'Gasgano', 'Ben Quadinaros', 'Mace Windu', 'Ki-Adi-Mundi', 'Kit Fisto', 'Eeth Koth', 'Adi Gallia', 'Saesee Tiin', 'Yarael Poof', 'Plo Koon', 'Mas Amedda', 'Gregar Typho', 'Cordé', 'Cliegg Lars', 'Poggle the Lesser', 'Luminara Unduli', 'Barriss Offee', 'Dormé', 'Dooku', 'Bail Prestor Organa', 'Jango Fett', 'Zam Wesell', 'Dexter Jettster', 'Lama Su', 'Taun We', 'Jocasta Nu', 'R4-P17', 'Wat Tambor', 'San Hill', 'Shaak Ti', 'Grievous', 'Tarfful', 'Raymus Antilles', 'Sly Moore', 'Tion Medon']\n"
     ]
    }
   ],
   "source": [
    "#1. Create a function that returns a list of all the names.\n",
    "def list_of_names():\n",
    "    names = []\n",
    "    for each_name in results_list:\n",
    "        names.append(each_name[\"name\"])\n",
    "    return names\n",
    "print(list_of_names())"
   ]
  },
  {
   "cell_type": "code",
   "execution_count": 9,
   "metadata": {},
   "outputs": [
    {
     "name": "stdout",
     "output_type": "stream",
     "text": [
      "Male count = 60 and Female count = 17\n"
     ]
    }
   ],
   "source": [
    "#2. Create a function that counts the total number of males and females. Return both numbers\n",
    "def total_gender():\n",
    "    male_count = 0\n",
    "    female_count = 0\n",
    "    for each_gender in results_list:\n",
    "        if each_gender[\"gender\"] == \"male\":\n",
    "            male_count += 1\n",
    "        elif each_gender[\"gender\"] == \"female\":\n",
    "            female_count += 1\n",
    "    return (male_count, female_count)\n",
    "x, y = total_gender()\n",
    "print(f\"Male count = {x} and Female count = {y}\")"
   ]
  },
  {
   "cell_type": "code",
   "execution_count": 10,
   "metadata": {},
   "outputs": [
    {
     "name": "stdout",
     "output_type": "stream",
     "text": [
      "[('Owen Lars', 3), ('Beru Whitesun lars', 3), ('Anakin Skywalker', 3), ('Han Solo', 3), ('Jabba Desilijic Tiure', 3), ('Wedge Antilles', 3), ('Boba Fett', 3), ('Nute Gunray', 3), ('Padmé Amidala', 3), ('Ayla Secura', 3), ('Mace Windu', 3), ('Ki-Adi-Mundi', 3), ('Kit Fisto', 3), ('Plo Koon', 3)]\n"
     ]
    }
   ],
   "source": [
    "#3. Create a function that returns a list of all the characters that appear in more than x number of films. \n",
    "# Where 'x' is the number of films you are checking for and is passed into the function.\n",
    "def char_films_count(num):\n",
    "    char_films_list = []\n",
    "    for each_char in results_list:\n",
    "        if len(each_char[\"films\"]) == num:\n",
    "            char_films_list.append((each_char[\"name\"],len(each_char[\"films\"])))\n",
    "    return char_films_list\n",
    "\n",
    "print(char_films_count(3))"
   ]
  },
  {
   "cell_type": "code",
   "execution_count": 11,
   "metadata": {},
   "outputs": [
    {
     "name": "stdout",
     "output_type": "stream",
     "text": [
      "Minimum = 66 : Maximum = 264 : Aveage = 175\n"
     ]
    }
   ],
   "source": [
    "#4. Create function that returns a tuple of the min, max, and avg height for all characters   \n",
    "def char_height():\n",
    "    ht_list = []\n",
    "    #total_ht = 0\n",
    "    for each_ht in results_list:\n",
    "        if each_ht[\"height\"].isnumeric():\n",
    "            h = int(each_ht[\"height\"])\n",
    "            ht_list.append(h)\n",
    "    return (min(ht_list), max(ht_list), round(sum(ht_list) / len(ht_list)))\n",
    "    \n",
    "a, b, c = char_height()\n",
    "print(f\"Minimum = {a} : Maximum = {b} : Aveage = {c}\")"
   ]
  },
  {
   "cell_type": "code",
   "execution_count": 12,
   "metadata": {},
   "outputs": [
    {
     "name": "stdout",
     "output_type": "stream",
     "text": [
      "{'eye_color': 'brown', 'hair_color': 'black', 'minimum': 163, 'maximum': 191, 'average': 180}\n"
     ]
    }
   ],
   "source": [
    "#5. Create a function that accepts two arguements: eye color and hair color. Return a dictionary with the min, max, and avg height based on the parameters.\n",
    "def eye_hair_dict_mod(eye_color, hair_color):\n",
    "    eye_hair_dict = {}\n",
    "    eye_hair_list = []\n",
    "\n",
    "    for each_record in results_list:\n",
    "        if each_record[\"eye_color\"].strip() == eye_color and each_record[\"hair_color\"].strip() == hair_color : \n",
    "            if each_record[\"height\"].isnumeric(): \n",
    "                eye_hair_list.append(int(each_record[\"height\"]))\n",
    "\n",
    "    if eye_hair_list != []:\n",
    "        if len(eye_hair_list) == 1:\n",
    "            eye_hair_dict[\"eye_color\"] = eye_color\n",
    "            eye_hair_dict[\"hair_color\"] = hair_color\n",
    "            eye_hair_dict[\"minimum\"] = eye_hair_list[0] \n",
    "            eye_hair_dict[\"maximum\"] = eye_hair_list[0]\n",
    "            eye_hair_dict[\"average\"] = eye_hair_list[0]\n",
    "        else:\n",
    "            eye_hair_dict[\"eye_color\"] = eye_color\n",
    "            eye_hair_dict[\"hair_color\"] = hair_color\n",
    "            eye_hair_dict[\"minimum\"] = min(eye_hair_list) \n",
    "            eye_hair_dict[\"maximum\"] = max(eye_hair_list)\n",
    "            eye_hair_dict[\"average\"] = math.ceil(sum(eye_hair_list)/len(eye_hair_list))\n",
    "    return eye_hair_dict\n",
    "\n",
    "print(eye_hair_dict_mod(\"brown\",\"black\"))"
   ]
  },
  {
   "cell_type": "code",
   "execution_count": 13,
   "metadata": {},
   "outputs": [
    {
     "name": "stdout",
     "output_type": "stream",
     "text": [
      "66 264 175\n"
     ]
    }
   ],
   "source": [
    "def char_height():\n",
    "    char_ht_list = []\n",
    "    for each_char in results_list:\n",
    "        if each_char[\"height\"].isnumeric():\n",
    "            h = int(each_char[\"height\"])\n",
    "            char_ht_list.append(h)\n",
    "    \n",
    "    return (min(char_ht_list), max(char_ht_list), round(sum(char_ht_list) / len(char_ht_list)))\n",
    "\n",
    "x, y, z = char_height()\n",
    "print(x,y,z)"
   ]
  },
  {
   "cell_type": "code",
   "execution_count": 15,
   "metadata": {},
   "outputs": [],
   "source": [
    "#Challenge 1: Get all of the response data into a list using a \"While Loop\" instead of a \"For Loop\"\n",
    "url = 'https://swapi.dev/api/people/?page=1'\n",
    "while url != None:\n",
    "    request = requests.get(url)\n",
    "    response = request.json()\n",
    "    url = response[\"next\"]"
   ]
  },
  {
   "cell_type": "code",
   "execution_count": 19,
   "metadata": {},
   "outputs": [
    {
     "name": "stdout",
     "output_type": "stream",
     "text": [
      "Minimum = 2011.68 cms : Maximum = 8046.72 cms : Aveage = 5322 cms\n"
     ]
    }
   ],
   "source": [
    "#Challenge 2: For problem number 4, convert the centimeters to feet\n",
    "def char_height():\n",
    "    ht_list = []\n",
    "    for each_ht in results_list:\n",
    "        if each_ht[\"height\"].isnumeric():\n",
    "            h = int(each_ht[\"height\"])\n",
    "            ht_list.append(h)\n",
    "    return (min(ht_list)*30.48, max(ht_list)*30.48, round((sum(ht_list) / len(ht_list))*30.48))\n",
    "    \n",
    "a, b, c = char_height()\n",
    "print(f\"Minimum = {a} cms : Maximum = {b} cms : Aveage = {c} cms\")"
   ]
  },
  {
   "cell_type": "code",
   "execution_count": 126,
   "metadata": {},
   "outputs": [
    {
     "name": "stdout",
     "output_type": "stream",
     "text": [
      "[]\n"
     ]
    }
   ],
   "source": [
    "#Challenge 3: Create a function that returns a list of all the names that start with a certain letter.\n",
    "def starships_starting_with(name):\n",
    "    import re\n",
    "    tmp_list = []\n",
    "    for each in results_list:\n",
    "        tmp = re.search(name.upper(), each[\"name\"].upper())\n",
    "        if tmp != None:\n",
    "            if tmp.end() != 0:\n",
    "                tmp_list.append(each[\"name\"])\n",
    "    return tmp_list\n",
    "print(starships_starting_with(\"  \"))"
   ]
  }
 ],
 "metadata": {
  "kernelspec": {
   "display_name": "Python 3",
   "language": "python",
   "name": "python3"
  },
  "language_info": {
   "codemirror_mode": {
    "name": "ipython",
    "version": 3
   },
   "file_extension": ".py",
   "mimetype": "text/x-python",
   "name": "python",
   "nbconvert_exporter": "python",
   "pygments_lexer": "ipython3",
   "version": "3.7.3 (v3.7.3:ef4ec6ed12, Mar 25 2019, 22:22:05) [MSC v.1916 64 bit (AMD64)]"
  },
  "orig_nbformat": 4,
  "vscode": {
   "interpreter": {
    "hash": "329e74eab13e1efbefcaeabff40e1514f85405b91e84e04e6869e473b0154ff3"
   }
  }
 },
 "nbformat": 4,
 "nbformat_minor": 2
}
